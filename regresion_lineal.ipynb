{
 "cells": [
  {
   "cell_type": "code",
   "execution_count": 1,
   "id": "379210fe-8f1f-4179-8ce3-f7332069e25f",
   "metadata": {},
   "outputs": [],
   "source": [
    "import numpy as np\n",
    "from matplotlib import pyplot as plt"
   ]
  },
  {
   "cell_type": "code",
   "execution_count": 62,
   "id": "0f6b4410-5e3a-4e3d-8787-2f361128b089",
   "metadata": {},
   "outputs": [],
   "source": [
    "def gradient_descent(X, y, epochs=100, learning_rate=0.01):\n",
    "    n, m = X.size\n",
    "    w = np.ones(m)\n",
    "    b = 1\n",
    "    loss = []\n",
    "\n",
    "    for i in range(10):\n",
    "\n",
    "        y_pred = np.dot(X, w) + b\n",
    "        if m == 1:\n",
    "            y_pred = y_pred.reshape(n, 1)\n",
    "\n",
    "        error = y - y_pred\n",
    "        mse = np.square(error).mean()\n",
    "\n",
    "        loss.append(mse)\n",
    "\n",
    "        gradient_w = - (1/n) * np.multiply(X.T, error)\n",
    "        gradient_b = - (1/n) * np.sum(error)\n",
    "\n",
    "        w = w - learning_rate * gradient_w\n",
    "        b = b - learning_rate * gradient_b\n",
    "\n",
    "    return w, b, loss"
   ]
  },
  {
   "cell_type": "code",
   "execution_count": 63,
   "id": "a011e3ef-fc39-4dc3-9183-7acc28f38a82",
   "metadata": {},
   "outputs": [],
   "source": [
    "def predict(X, w, b):\n",
    "    return np.dot(X, w) + b"
   ]
  },
  {
   "cell_type": "code",
   "execution_count": 64,
   "id": "d32d6a1b-2cc6-4917-8615-8b2ecb656bbc",
   "metadata": {},
   "outputs": [
    {
     "ename": "TypeError",
     "evalue": "'module' object is not callable",
     "output_type": "error",
     "traceback": [
      "\u001b[0;31m---------------------------------------------------------------------------\u001b[0m",
      "\u001b[0;31mTypeError\u001b[0m                                 Traceback (most recent call last)",
      "Cell \u001b[0;32mIn[64], line 2\u001b[0m\n\u001b[1;32m      1\u001b[0m np\u001b[38;5;241m.\u001b[39mrandom\u001b[38;5;241m.\u001b[39mseed(\u001b[38;5;241m0\u001b[39m)\n\u001b[0;32m----> 2\u001b[0m X \u001b[38;5;241m=\u001b[39m \u001b[38;5;241m3\u001b[39m \u001b[38;5;241m*\u001b[39m \u001b[43mnp\u001b[49m\u001b[38;5;241;43m.\u001b[39;49m\u001b[43mrandom\u001b[49m\u001b[43m(\u001b[49m\u001b[38;5;241;43m100\u001b[39;49m\u001b[43m,\u001b[49m\u001b[43m \u001b[49m\u001b[38;5;241;43m1\u001b[39;49m\u001b[43m)\u001b[49m\n\u001b[1;32m      3\u001b[0m y \u001b[38;5;241m=\u001b[39m \u001b[38;5;241m5\u001b[39m \u001b[38;5;241m*\u001b[39m X \u001b[38;5;241m+\u001b[39m \u001b[38;5;241m3\u001b[39m \u001b[38;5;241m+\u001b[39m np\u001b[38;5;241m.\u001b[39mrandom(\u001b[38;5;241m100\u001b[39m, \u001b[38;5;241m1\u001b[39m)\n",
      "\u001b[0;31mTypeError\u001b[0m: 'module' object is not callable"
     ]
    }
   ],
   "source": [
    "np.random.seed(0)\n",
    "X = 3 * np.random(100, 1)\n",
    "y = 5 * X + 3 + np.random(100, 1)"
   ]
  },
  {
   "cell_type": "code",
   "execution_count": 65,
   "id": "6e4e4623-bd7e-4a2a-a2c9-f7afd3e8385a",
   "metadata": {},
   "outputs": [
    {
     "data": {
      "text/plain": [
       "<matplotlib.collections.PathCollection at 0x7fa2c1551450>"
      ]
     },
     "execution_count": 65,
     "metadata": {},
     "output_type": "execute_result"
    },
    {
     "data": {
      "image/png": "[encoded data removed]",
      "text/plain": [
       "<Figure size 640x480 with 1 Axes>"
      ]
     },
     "metadata": {},
     "output_type": "display_data"
    }
   ],
   "source": [
    "plt.scatter(X, y)"
   ]
  },
  {
   "cell_type": "code",
   "execution_count": 66,
   "id": "642ea68e-47bc-4777-b06a-2d883d26ec17",
   "metadata": {},
   "outputs": [],
   "source": [
    "w, b, loss = gradient_descent(X, y, epochs=500, learning_rate=0.01)"
   ]
  },
  {
   "cell_type": "code",
   "execution_count": 68,
   "id": "4e10a449-e138-46c4-a3b1-27aad60ed9a6",
   "metadata": {},
   "outputs": [
    {
     "data": {
      "text/plain": [
       "(100, 1)"
      ]
     },
     "execution_count": 68,
     "metadata": {},
     "output_type": "execute_result"
    }
   ],
   "source": [
    "X.shape"
   ]
  },
  {
   "cell_type": "code",
   "execution_count": 69,
   "id": "2513e466-b626-4086-a934-c67a34c91255",
   "metadata": {},
   "outputs": [
    {
     "data": {
      "text/plain": [
       "100"
      ]
     },
     "execution_count": 69,
     "metadata": {},
     "output_type": "execute_result"
    }
   ],
   "source": [
    "X.size"
   ]
  },
  {
   "cell_type": "code",
   "execution_count": 71,
   "id": "0e44fd0e-d788-4ad1-9ad5-a9c463af9db9",
   "metadata": {},
   "outputs": [
    {
     "data": {
      "text/plain": [
       "array([[5.02976332]])"
      ]
     },
     "execution_count": 71,
     "metadata": {},
     "output_type": "execute_result"
    }
   ],
   "source": [
    "w"
   ]
  },
  {
   "cell_type": "code",
   "execution_count": 72,
   "id": "d9120931-330a-4242-a6a3-4d38420e73a5",
   "metadata": {},
   "outputs": [
    {
     "data": {
      "text/plain": [
       "3.4665799563778488"
      ]
     },
     "execution_count": 72,
     "metadata": {},
     "output_type": "execute_result"
    }
   ],
   "source": [
    "b"
   ]
  },
  {
   "cell_type": "code",
   "execution_count": 67,
   "id": "3c6c3d40-8902-4b43-acb1-6e9083553728",
   "metadata": {},
   "outputs": [],
   "source": [
    "y_pred = predict(X, w, b)"
   ]
  },
  {
   "cell_type": "code",
   "execution_count": 70,
   "id": "eb1f580c-b225-42e3-9093-7d9cc43f11f5",
   "metadata": {},
   "outputs": [
    {
     "data": {
      "text/plain": [
       "(100, 1)"
      ]
     },
     "execution_count": 70,
     "metadata": {},
     "output_type": "execute_result"
    }
   ],
   "source": [
    "y_pred.shape"
   ]
  },
  {
   "cell_type": "code",
   "execution_count": 73,
   "id": "566b1951-cae7-4680-a484-1cc7feed6049",
   "metadata": {},
   "outputs": [
    {
     "data": {
      "text/plain": [
       "<matplotlib.collections.PathCollection at 0x7fa2c0df7e20>"
      ]
     },
     "execution_count": 73,
     "metadata": {},
     "output_type": "execute_result"
    },
    {
     "data": {
      "image/png": "[encoded data removed]",
      "text/plain": [
       "<Figure size 640x480 with 1 Axes>"
      ]
     },
     "metadata": {},
     "output_type": "display_data"
    }
   ],
   "source": [
    "plt.plot(X, y_pred, color=\"red\")\n",
    "plt.scatter(X, y)"
   ]
  },
  {
   "cell_type": "code",
   "execution_count": null,
   "id": "67e6ceaa-f1f9-4a10-ae12-5d75bd51b752",
   "metadata": {},
   "outputs": [],
   "source": []
  }
 ],
 "metadata": {
  "kernelspec": {
   "display_name": "Python 3 (ipykernel)",
   "language": "python",
   "name": "python3"
  },
  "language_info": {
   "codemirror_mode": {
    "name": "ipython",
    "version": 3
   },
   "file_extension": ".py",
   "mimetype": "text/x-python",
   "name": "python",
   "nbconvert_exporter": "python",
   "pygments_lexer": "ipython3",
   "version": "3.10.14"
  }
 },
 "nbformat": 4,
 "nbformat_minor": 5
}
